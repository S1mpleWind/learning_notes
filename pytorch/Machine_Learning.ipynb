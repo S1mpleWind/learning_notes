{
 "cells": [
  {
   "cell_type": "markdown",
   "id": "8771e01a-47a6-4499-bf4d-6af35df9f6ab",
   "metadata": {},
   "source": [
    "# Simple Machine Learning Entry\n",
    "\n",
    "## kNN\n",
    "\n",
    "k-nearest-neighbors algorithm\n",
    "\n",
    "example : ***Iris***"
   ]
  },
  {
   "cell_type": "code",
   "execution_count": 2,
   "id": "41762d1e-bb20-4ce8-ba24-3e9cc784cb8f",
   "metadata": {},
   "outputs": [
    {
     "name": "stdout",
     "output_type": "stream",
     "text": [
      ".. _iris_dataset:\n",
      "\n",
      "Iris plants dataset\n",
      "--------------------\n",
      "\n",
      "**Data Set Characteristics:**\n",
      "\n",
      ":Number of Instances: 150 (50 in each of three classes)\n",
      ":Number of Attributes: 4 numeric, predictive attributes and the class\n",
      ":Attribute Information:\n",
      "    - sepal length in cm\n",
      "    - sepal width in cm\n",
      "    - petal length in cm\n",
      "    - petal width in cm\n",
      "    - class:\n",
      "            - Iris-Setosa\n",
      "            - Iris-Versicolour\n",
      "            - Iris-Virginica\n",
      "\n",
      ":Summary Statistics:\n",
      "\n",
      "============== ==== ==== ======= ===== ====================\n",
      "                Min  Max   Mean    SD   Class Correlation\n",
      "============== ==== ==== ======= ===== ====================\n",
      "sepal length:   4.3  7.9   5.84   0.83    0.7826\n",
      "sepal width:    2.0  4.4   3.05   0.43   -0.4194\n",
      "petal length:   1.0  6.9   3.76   1.76    0.9490  (high!)\n",
      "petal width:    0.1  2.5   1.20   0.76    0.9565  (high!)\n",
      "============== ==== ==== ======= ===== ====================\n",
      "\n",
      ":Missing Attribute Values: None\n",
      ":Class Distribution: 33.3% for each of 3 classes.\n",
      ":Creator: R.A. Fisher\n",
      ":Donor: Michael Marshall (MARSHALL%PLU@io.arc.nasa.gov)\n",
      ":Date: July, 1988\n",
      "\n",
      "The famous Iris database, first used by Sir R.A. Fisher. The dataset is taken\n",
      "from Fisher's paper. Note that it's the same as in R, but not as in the UCI\n",
      "Machine Learning Repository, which has two wrong data points.\n",
      "\n",
      "This is perhaps the best known database to be found in the\n",
      "pattern recognition literature.  Fisher's paper is a classic in the field and\n",
      "is referenced frequently to this day.  (See Duda & Hart, for example.)  The\n",
      "data set contains 3 classes of 50 instances each, where each class refers to a\n",
      "type of iris plant.  One class is linearly separable from the other 2; the\n",
      "latter are NOT linearly separable from each other.\n",
      "\n",
      ".. dropdown:: References\n",
      "\n",
      "  - Fisher, R.A. \"The use of multiple measurements in taxonomic problems\"\n",
      "    Annual Eugenics, 7, Part II, 179-188 (1936); also in \"Contributions to\n",
      "    Mathematical Statistics\" (John Wiley, NY, 1950).\n",
      "  - Duda, R.O., & Hart, P.E. (1973) Pattern Classification and Scene Analysis.\n",
      "    (Q327.D83) John Wiley & Sons.  ISBN 0-471-22361-1.  See page 218.\n",
      "  - Dasarathy, B.V. (1980) \"Nosing Around the Neighborhood: A New System\n",
      "    Structure and Classification Rule for Recognition in Partially Exposed\n",
      "    Environments\".  IEEE Transactions on Pattern Analysis and Machine\n",
      "    Intelligence, Vol. PAMI-2, No. 1, 67-71.\n",
      "  - Gates, G.W. (1972) \"The Reduced Nearest Neighbor Rule\".  IEEE Transactions\n",
      "    on Information Theory, May 1972, 431-433.\n",
      "  - See also: 1988 MLC Proceedings, 54-64.  Cheeseman et al\"s AUTOCLASS II\n",
      "    conceptual clustering system finds 3 classes in the data.\n",
      "  - Many, many more ...\n",
      "\n"
     ]
    }
   ],
   "source": [
    "from sklearn.datasets import load_iris\n",
    "\n",
    "# load data of Iris \n",
    "iris = load_iris()\n",
    "print(iris.DESCR)"
   ]
  },
  {
   "cell_type": "markdown",
   "id": "6328655e-86a1-4744-b1ae-f45a2ef6b6f2",
   "metadata": {},
   "source": [
    "---\n",
    "Usually we need to separate the data set into **Training Sets** and **Testing Sets**"
   ]
  },
  {
   "cell_type": "code",
   "execution_count": 31,
   "id": "64328b4b-061a-4ac1-a38d-f643f1300850",
   "metadata": {},
   "outputs": [],
   "source": [
    "# Aspects\n",
    "X = iris.data\n",
    "#print(X.shape)\n",
    "\n",
    "# Labels ( Categories )\n",
    "Y = iris.target\n",
    "#print(Y.shape)\n",
    "\n",
    "import numpy as np\n",
    "\n",
    "data = np.hstack((X,Y.reshape(-1,1)))\n",
    "\n",
    "#print(data.shape)\n",
    "\n",
    "np.random.shuffle(data)\n",
    "train_size = int (data.size*0.8)\n",
    "\n",
    "train_data , test_data = data [:int(train_size/5) ] , data [int(train_size /5):]\n",
    "# slice data into 2 parts\n",
    "\n",
    "\n",
    "x_train , y_train = train_data[: , :-1 ] , train_data[ : , -1: ]\n",
    "x_test  , y_test  = test_data [: , :-1 ] , test_data[ : , -1: ]\n",
    "\n",
    "\n",
    "# A simpler way is to call the `train_test_split` function in the module"
   ]
  },
  {
   "cell_type": "markdown",
   "id": "c18ac4d6-85bd-44fd-b594-cea0c7919e5a",
   "metadata": {},
   "source": [
    "---\n",
    "Use numpy first to better understand the algorithm:"
   ]
  },
  {
   "cell_type": "code",
   "execution_count": 32,
   "id": "172b5374-dbc0-4c68-b690-3531ec6d7ee7",
   "metadata": {},
   "outputs": [],
   "source": [
    "def euclid_dis(u,v):\n",
    "    return np.sqrt(np.sum(np.abs(u-v)**2))\n",
    "    # these unary operation will work on every element\n",
    "\n",
    "\n",
    "from scipy import stats\n",
    "# used to get mode\n",
    "\n",
    "def mklabel (x_train,y_train,x_one,k):\n",
    "    distances = [ euclid_dis( x_one, x_i)  for x_i in x_train ]\n",
    "    # get the distance or \"similarity\" of test and all train_data\n",
    "    \n",
    "    labels = y_train [ np.argpartition(distances , k-1)[:k] ]\n",
    "    # argpartition ( array , num ) returns an array that the smallest n + 1 elements come first\n",
    "    # then call a slice \n",
    "    # and use a *fancy indexing* \n",
    "\n",
    "    return stats.mode(labels).mode"
   ]
  },
  {
   "cell_type": "markdown",
   "id": "a78299e8-dfaa-45db-b2cb-8ef071c55f76",
   "metadata": {},
   "source": [
    "---\n",
    "Now all the preparations are ready . \n",
    "Define the authentic function\n"
   ]
  },
  {
   "cell_type": "code",
   "execution_count": 33,
   "id": "7e4f9a21-536b-4516-b2ac-c5e8dca20280",
   "metadata": {},
   "outputs": [],
   "source": [
    "def predict_by_kNN (x_train,y_train,x_new,k=5):\n",
    "    return np.asarray([mklabel(x_train,y_train,x_one,k) for x_one in x_new])\n",
    "    # fancy indexing "
   ]
  },
  {
   "cell_type": "code",
   "execution_count": 34,
   "id": "c659be5b-90f7-404b-8a5a-1f0bd3ca253d",
   "metadata": {},
   "outputs": [
    {
     "data": {
      "text/plain": [
       "array([[ True],\n",
       "       [ True],\n",
       "       [ True],\n",
       "       [ True],\n",
       "       [ True],\n",
       "       [ True],\n",
       "       [ True],\n",
       "       [ True],\n",
       "       [ True],\n",
       "       [ True],\n",
       "       [ True],\n",
       "       [ True],\n",
       "       [ True],\n",
       "       [ True],\n",
       "       [ True],\n",
       "       [ True],\n",
       "       [ True],\n",
       "       [ True],\n",
       "       [ True],\n",
       "       [ True],\n",
       "       [ True],\n",
       "       [ True],\n",
       "       [ True],\n",
       "       [ True],\n",
       "       [ True],\n",
       "       [ True],\n",
       "       [ True],\n",
       "       [ True],\n",
       "       [ True],\n",
       "       [ True]])"
      ]
     },
     "execution_count": 34,
     "metadata": {},
     "output_type": "execute_result"
    }
   ],
   "source": [
    "y_pred = predict_by_kNN(x_train, y_train, x_test)\n",
    "y_pred == y_test"
   ]
  },
  {
   "cell_type": "markdown",
   "id": "9a9cbcb1-abcb-4ae5-9359-7f1d5fcd96db",
   "metadata": {},
   "source": [
    "---\n",
    "It is easier to accomplish the algorithm using `scikit-learn`"
   ]
  },
  {
   "cell_type": "code",
   "execution_count": 50,
   "id": "ee126ceb-a666-4abf-9135-bf88060e2445",
   "metadata": {},
   "outputs": [
    {
     "name": "stdout",
     "output_type": "stream",
     "text": [
      "[1. 2. 2. 2. 2. 0. 1. 0. 0. 1. 0. 1. 0. 0. 1. 2. 0. 0. 1. 1. 2. 0. 0. 0.\n",
      " 1. 1. 2. 2. 1. 2.]\n",
      "[1. 2. 2. 2. 2. 0. 1. 0. 0. 1. 0. 1. 0. 0. 1. 2. 0. 0. 1. 1. 2. 0. 0. 0.\n",
      " 1. 1. 2. 2. 1. 2.]\n"
     ]
    },
    {
     "name": "stderr",
     "output_type": "stream",
     "text": [
      "/home/ivon/miniconda3/envs/machine_learning/lib/python3.10/site-packages/sklearn/neighbors/_classification.py:239: DataConversionWarning: A column-vector y was passed when a 1d array was expected. Please change the shape of y to (n_samples,), for example using ravel().\n",
      "  return self._fit(X, y)\n"
     ]
    },
    {
     "data": {
      "text/plain": [
       "array([ True,  True,  True,  True,  True,  True,  True,  True,  True,\n",
       "        True,  True,  True,  True,  True,  True,  True,  True,  True,\n",
       "        True,  True,  True,  True,  True,  True,  True,  True,  True,\n",
       "        True,  True,  True])"
      ]
     },
     "execution_count": 50,
     "metadata": {},
     "output_type": "execute_result"
    }
   ],
   "source": [
    "from sklearn.neighbors import KNeighborsClassifier\n",
    "\n",
    "model = KNeighborsClassifier()\n",
    "\n",
    "model.fit(x_train,y_train)\n",
    "\n",
    "y_pred = model.predict(x_test)\n",
    "y_test = y_test.flatten()\n",
    "\n",
    "print(y_pred)\n",
    "print(y_test)\n",
    "\n",
    "\n",
    "y_pred == y_test"
   ]
  },
  {
   "cell_type": "code",
   "execution_count": 51,
   "id": "b5e9c803-355c-4643-9c12-4071acb7427b",
   "metadata": {},
   "outputs": [
    {
     "data": {
      "text/plain": [
       "1.0"
      ]
     },
     "execution_count": 51,
     "metadata": {},
     "output_type": "execute_result"
    }
   ],
   "source": [
    "model.score(x_test,y_test)"
   ]
  },
  {
   "cell_type": "markdown",
   "id": "37cc5e4a-1cae-4431-b21b-2257706d62e8",
   "metadata": {},
   "source": [
    "## Conclusion\n",
    "\n",
    "`kNN-model` is a simple but powerful algorithm\n",
    "it may have low-efficiency in calaulation , and `k` value is of great importance .\n",
    "moreover , the imbalance of training data may lead to *Class Imbalance Bias* too ."
   ]
  }
 ],
 "metadata": {
  "kernelspec": {
   "display_name": "Python 3 (ipykernel)",
   "language": "python",
   "name": "python3"
  },
  "language_info": {
   "codemirror_mode": {
    "name": "ipython",
    "version": 3
   },
   "file_extension": ".py",
   "mimetype": "text/x-python",
   "name": "python",
   "nbconvert_exporter": "python",
   "pygments_lexer": "ipython3",
   "version": "3.10.18"
  }
 },
 "nbformat": 4,
 "nbformat_minor": 5
}
