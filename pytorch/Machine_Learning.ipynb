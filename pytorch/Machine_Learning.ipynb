{
 "cells": [
  {
   "cell_type": "markdown",
   "id": "8771e01a-47a6-4499-bf4d-6af35df9f6ab",
   "metadata": {},
   "source": [
    "# Simple Machine Learning Entry\n",
    "\n",
    "## kNN\n",
    "\n",
    "k-nearest-neighbors algorithm\n",
    "\n",
    "example : ***Iris***"
   ]
  },
  {
   "cell_type": "code",
   "execution_count": 4,
   "id": "41762d1e-bb20-4ce8-ba24-3e9cc784cb8f",
   "metadata": {},
   "outputs": [
    {
     "name": "stdout",
     "output_type": "stream",
     "text": [
      ".. _iris_dataset:\n",
      "\n",
      "Iris plants dataset\n",
      "--------------------\n",
      "\n",
      "**Data Set Characteristics:**\n",
      "\n",
      ":Number of Instances: 150 (50 in each of three classes)\n",
      ":Number of Attributes: 4 numeric, predictive attributes and the class\n",
      ":Attribute Information:\n",
      "    - sepal length in cm\n",
      "    - sepal width in cm\n",
      "    - petal length in cm\n",
      "    - petal width in cm\n",
      "    - class:\n",
      "            - Iris-Setosa\n",
      "            - Iris-Versicolour\n",
      "            - Iris-Virginica\n",
      "\n",
      ":Summary Statistics:\n",
      "\n",
      "============== ==== ==== ======= ===== ====================\n",
      "                Min  Max   Mean    SD   Class Correlation\n",
      "============== ==== ==== ======= ===== ====================\n",
      "sepal length:   4.3  7.9   5.84   0.83    0.7826\n",
      "sepal width:    2.0  4.4   3.05   0.43   -0.4194\n",
      "petal length:   1.0  6.9   3.76   1.76    0.9490  (high!)\n",
      "petal width:    0.1  2.5   1.20   0.76    0.9565  (high!)\n",
      "============== ==== ==== ======= ===== ====================\n",
      "\n",
      ":Missing Attribute Values: None\n",
      ":Class Distribution: 33.3% for each of 3 classes.\n",
      ":Creator: R.A. Fisher\n",
      ":Donor: Michael Marshall (MARSHALL%PLU@io.arc.nasa.gov)\n",
      ":Date: July, 1988\n",
      "\n",
      "The famous Iris database, first used by Sir R.A. Fisher. The dataset is taken\n",
      "from Fisher's paper. Note that it's the same as in R, but not as in the UCI\n",
      "Machine Learning Repository, which has two wrong data points.\n",
      "\n",
      "This is perhaps the best known database to be found in the\n",
      "pattern recognition literature.  Fisher's paper is a classic in the field and\n",
      "is referenced frequently to this day.  (See Duda & Hart, for example.)  The\n",
      "data set contains 3 classes of 50 instances each, where each class refers to a\n",
      "type of iris plant.  One class is linearly separable from the other 2; the\n",
      "latter are NOT linearly separable from each other.\n",
      "\n",
      ".. dropdown:: References\n",
      "\n",
      "  - Fisher, R.A. \"The use of multiple measurements in taxonomic problems\"\n",
      "    Annual Eugenics, 7, Part II, 179-188 (1936); also in \"Contributions to\n",
      "    Mathematical Statistics\" (John Wiley, NY, 1950).\n",
      "  - Duda, R.O., & Hart, P.E. (1973) Pattern Classification and Scene Analysis.\n",
      "    (Q327.D83) John Wiley & Sons.  ISBN 0-471-22361-1.  See page 218.\n",
      "  - Dasarathy, B.V. (1980) \"Nosing Around the Neighborhood: A New System\n",
      "    Structure and Classification Rule for Recognition in Partially Exposed\n",
      "    Environments\".  IEEE Transactions on Pattern Analysis and Machine\n",
      "    Intelligence, Vol. PAMI-2, No. 1, 67-71.\n",
      "  - Gates, G.W. (1972) \"The Reduced Nearest Neighbor Rule\".  IEEE Transactions\n",
      "    on Information Theory, May 1972, 431-433.\n",
      "  - See also: 1988 MLC Proceedings, 54-64.  Cheeseman et al\"s AUTOCLASS II\n",
      "    conceptual clustering system finds 3 classes in the data.\n",
      "  - Many, many more ...\n",
      "\n"
     ]
    }
   ],
   "source": [
    "from sklearn.datasets import load_iris\n",
    "\n",
    "# load data of Iris \n",
    "iris = load_iris()\n",
    "print(iris.DESCR)"
   ]
  },
  {
   "cell_type": "markdown",
   "id": "6328655e-86a1-4744-b1ae-f45a2ef6b6f2",
   "metadata": {},
   "source": [
    "Usually we need to separate the data set into **Training Sets** and **Testing Sets**"
   ]
  },
  {
   "cell_type": "code",
   "execution_count": 8,
   "id": "64328b4b-061a-4ac1-a38d-f643f1300850",
   "metadata": {},
   "outputs": [
    {
     "name": "stdout",
     "output_type": "stream",
     "text": [
      "(150, 4)\n",
      "(150,)\n",
      "(150, 5)\n"
     ]
    }
   ],
   "source": [
    "# Aspects\n",
    "X = iris.data\n",
    "#print(X.shape)\n",
    "\n",
    "# Labels ( Categories )\n",
    "Y = iris.target\n",
    "#print(Y.shape)\n",
    "\n",
    "import numpy as np\n",
    "\n",
    "data = np.hstack((X,Y.reshape(-1,1)))\n",
    "\n",
    "#print(data.shape)\n",
    "\n",
    "np.random.shuffle(data)\n",
    "train_size = int (data.size()*0.8)\n",
    "\n",
    "train_data , test_data = data [:train_size] , data [train_size:]\n",
    "# slice data into 2 parts\n",
    "\n",
    "x_train , y_train = train_data[: , :-1 ] , train_data[ : , -1: ]\n",
    "x_test  , y_test  = test_data [: , :-1 ] , train_data[ : , -1: ]\n",
    "\n",
    "# A simpler way is to call the `train_test_split` function in the module"
   ]
  },
  {
   "cell_type": "markdown",
   "id": "c18ac4d6-85bd-44fd-b594-cea0c7919e5a",
   "metadata": {},
   "source": [
    "Use numpy first to better understand the algorithm:"
   ]
  },
  {
   "cell_type": "code",
   "execution_count": null,
   "id": "172b5374-dbc0-4c68-b690-3531ec6d7ee7",
   "metadata": {},
   "outputs": [],
   "source": [
    "def euclid_dis(u,v):\n",
    "    return np.sqrt(np.sum(np.abs(u-v)**2))\n",
    "    # these unary operation will work on every element\n",
    "\n",
    "\n",
    "from scipy import stats\n",
    "# used to get mode\n",
    "\n",
    "def mklabel (x_train,y_train,x_one,k):\n",
    "    distances = [ euclid_dis( x_one, x_i for x_i in x_train) ]\n",
    "    # get the distance or \"similarity\" of test and all train_data\n",
    "    \n",
    "    labels = y_train [ np.argpartition(distances , k-1)[:k] ]\n",
    "    # argpartition ( key , num ) gets the smallest n + 1 elements\n",
    "    # and use a *fancy indexing* "
   ]
  }
 ],
 "metadata": {
  "kernelspec": {
   "display_name": "Python 3 (ipykernel)",
   "language": "python",
   "name": "python3"
  },
  "language_info": {
   "codemirror_mode": {
    "name": "ipython",
    "version": 3
   },
   "file_extension": ".py",
   "mimetype": "text/x-python",
   "name": "python",
   "nbconvert_exporter": "python",
   "pygments_lexer": "ipython3",
   "version": "3.10.18"
  }
 },
 "nbformat": 4,
 "nbformat_minor": 5
}
