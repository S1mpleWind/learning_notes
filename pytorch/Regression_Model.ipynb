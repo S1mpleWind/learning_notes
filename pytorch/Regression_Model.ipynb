{
 "cells": [
  {
   "cell_type": "markdown",
   "id": "c1fd1f87-8308-46ae-9535-43fba9667c31",
   "metadata": {},
   "source": [
    "# Regression Model\n",
    "Aimed to find the **Function** between $y$ and $x$\n",
    "\n",
    "Types:\n",
    "1. Linear Regression : $y = x^T \\beta + \\epsilon$\n",
    "2. Polynomial Regression\n",
    "3. Nonlinear Regression\n",
    "4. Ridge Regression , Lasso Regression , Elastic Net Regression :\n",
    "   Add `regulation` on `linear regression` , used to handle *overfitting*\n",
    "5. Logistic Regression : used to sort problems\n",
    "\n",
    "---\n",
    "## Calculation of `Regression Coefficient`\n",
    "\n",
    "The key is to find a proper regression coefficient $\\beta$ to fit the data .\n"
   ]
  },
  {
   "cell_type": "markdown",
   "id": "326a4ff1-6310-4b6f-92be-5a6210474287",
   "metadata": {},
   "source": [
    "Define a $Loss$ function :\n",
    "$$L(\\beta)=\\sum_{i=1}^{m} (y_i - \\hat{y_i})^2$$\n",
    "\n",
    "here , the shape of input and output $x$ and $y$ is $m \\times 1 $  \n",
    "$$\n",
    "input :x_i = \\{d_1,d_2, \\cdots , d_m\\}^T\n",
    "$$\n",
    "$$\n",
    "expect :y_i = \\{e_1,e_2,\\cdots ,e_m\\}^T\n",
    "$$\n",
    "\n",
    "$$weight: \\beta = \\{ w_1,w_2,w_3,\\cdots , w_m \\} ^T\n",
    "$$\n",
    "\n",
    "\n",
    "replace $\\hat(y)$:\n",
    "\n",
    "$$L(\\beta)=\\sum_{i=1}^{m} (y_i - x^T \\beta)^2$$\n"
   ]
  },
  {
   "cell_type": "markdown",
   "id": "ac8bd2f2-c312-4017-9966-161e83605709",
   "metadata": {},
   "source": [
    "while the shape of *feature matrix*  $X$ is $m \\times n$   (stack of n $x_i$) , means n input data\n",
    "$$\n",
    "X= \\{x_1,x_2,\\cdots ,x_n \\}^T\n",
    "$$\n",
    "\n",
    "also , \n",
    "$$Y = \\{ y_1 , y_2 , \\cdots , y_n \\} ^T\n",
    "$$\n",
    "\n"
   ]
  },
  {
   "cell_type": "markdown",
   "id": "4e20a849-3bf4-4cc0-ac53-a46d1067bbf1",
   "metadata": {},
   "source": [
    "look into this matrix :  $ Y-X\\beta$ , \n",
    "$$Y - x\\beta = \\{ y_1 , y_2 , \\cdots , y_n \\} ^T - X= \\{x_1,x_2,\\cdots ,x_n \\}^T \\beta  \n",
    "= \\begin{Bmatrix}\n",
    "y_1 - x_1^T \\beta \\\\\n",
    "y_2 - x_2^T \\beta \\\\\n",
    "\\cdots \\\\\n",
    "y_n - x_n^T \\beta\n",
    "\\end{Bmatrix}$$\n"
   ]
  },
  {
   "cell_type": "markdown",
   "id": "c15f3671-4038-4e32-acdf-22a6b27d7ee2",
   "metadata": {},
   "source": [
    "We can see the *Inner Product* of the new matrix equals to the *Loss Function* that we want.\n",
    "$$L(\\beta) = (Y-X\\beta)^T (Y-X\\beta)$$"
   ]
  },
  {
   "cell_type": "markdown",
   "id": "bd6c7466-5ea9-4a57-9347-7606f9beb6e9",
   "metadata": {},
   "source": [
    "Because we  want to calculate the *Extremum* of the *Loss Function* , so we do a derivation first :\n",
    "$$\\frac{\\partial L(\\beta)}{\\partial \\beta} = \\frac { \\partial (Y^T-(X\\beta)^T)(Y - X\\beta))} { \\partial \\beta }  \n",
    "=\\frac { \\partial ((Y^T - \\beta^T X^T)(Y - X\\beta))} { \\partial \\beta}  $$\n",
    "\n",
    "$$ = \\frac {\\partial ( Y^TY - \\beta^T X^T Y -X \\beta Y^T + \\beta^T X^T X \\beta ) } {\\partial \\beta} $$\n",
    "\n",
    "$$= -2 X^T (Y - X \\beta)$$\n"
   ]
  },
  {
   "cell_type": "markdown",
   "id": "b02de68d-7bc9-4bf9-9f8b-c824c6c648ad",
   "metadata": {},
   "source": [
    "The rule of seeking partial , we'll replainlish it later too.\n",
    "\n",
    "let the *expression* above equals to $0$ , we got a *Extreme Point*\n",
    "$$ X^T Y = X^T X \\beta$$\n",
    "$$ (X^T X)^{-1} Y = \\beta$$"
   ]
  },
  {
   "cell_type": "markdown",
   "id": "c2c98d2f-58c5-48f6-854b-fc6e06287dc5",
   "metadata": {},
   "source": [
    "when $X^TX$ is *invertible* , we have the only solution.\n",
    "\n",
    "$$X^T X \\iff rank(X) = full$$ we'll prove it later .\n",
    "\n",
    "That is to say , when $X$ has a *full colume rank* , and $n > m$ ( data size is larger than weight size ) , we have single solution .\n"
   ]
  },
  {
   "cell_type": "markdown",
   "id": "7bc628e3-beab-4caf-af79-58227102ef39",
   "metadata": {},
   "source": [
    "But it's worth noting that this solution is not a *Minimum point* yet . We need a ***Hassain*** Matrix (composed of combination of partial)to check it . \n",
    "\n",
    "$$ Hassain - Matrix  : to - be - completed $$"
   ]
  },
  {
   "cell_type": "markdown",
   "id": "1bdb7228-6b97-4a01-aee7-b87c9f47bc40",
   "metadata": {},
   "source": [
    "We can add an extra term `L2 penalty` to \"punish\" too large $\\beta$ , where $lambda$ represents **regulation parameter**\n",
    "\n",
    "$$L(\\beta) = (Y-X \\beta)^T (Y - X \\beta) + \\lambda ||\\beta||^2\n",
    "$$\n",
    "\n",
    "By adding this *penalty* , we can prevent the model from overfitting"
   ]
  },
  {
   "cell_type": "code",
   "execution_count": 1,
   "id": "c99c1d62-12ff-4e50-994d-64b2da0307c6",
   "metadata": {},
   "outputs": [
    {
     "name": "stdout",
     "output_type": "stream",
     "text": [
      "<class 'pandas.core.frame.DataFrame'>\n",
      "RangeIndex: 398 entries, 0 to 397\n",
      "Data columns (total 9 columns):\n",
      " #   Column        Non-Null Count  Dtype  \n",
      "---  ------        --------------  -----  \n",
      " 0   car_name      398 non-null    object \n",
      " 1   cylinders     398 non-null    int64  \n",
      " 2   displacement  398 non-null    float64\n",
      " 3   horsepower    392 non-null    float64\n",
      " 4   weight        398 non-null    int64  \n",
      " 5   acceleration  398 non-null    float64\n",
      " 6   model_year    398 non-null    int64  \n",
      " 7   origin        398 non-null    int64  \n",
      " 8   mpg           398 non-null    float64\n",
      "dtypes: float64(4), int64(4), object(1)\n",
      "memory usage: 28.1+ KB\n"
     ]
    }
   ],
   "source": [
    "import ssl\n",
    "import pandas as pd\n",
    "\n",
    "ssl._create_default_https_context = ssl._create_unverified_context\n",
    "df = pd.read_csv('https://archive.ics.uci.edu/static/public/9/data.csv')\n",
    "df.info()"
   ]
  }
 ],
 "metadata": {
  "kernelspec": {
   "display_name": "Python 3 (ipykernel)",
   "language": "python",
   "name": "python3"
  },
  "language_info": {
   "codemirror_mode": {
    "name": "ipython",
    "version": 3
   },
   "file_extension": ".py",
   "mimetype": "text/x-python",
   "name": "python",
   "nbconvert_exporter": "python",
   "pygments_lexer": "ipython3",
   "version": "3.10.18"
  }
 },
 "nbformat": 4,
 "nbformat_minor": 5
}
