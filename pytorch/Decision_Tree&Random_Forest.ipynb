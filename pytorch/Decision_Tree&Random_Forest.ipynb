{
 "cells": [
  {
   "cell_type": "markdown",
   "id": "b90c4e69-ca30-4310-b219-1106945b56d7",
   "metadata": {},
   "source": [
    "# Decision Tree\n",
    "`Decision Tree` is an algorithm based on `tree` and `monitor learning` \n",
    "By cutting the data into many sub-trees until it fit some judgements .\n",
    "\n"
   ]
  }
 ],
 "metadata": {
  "kernelspec": {
   "display_name": "Python 3 (ipykernel)",
   "language": "python",
   "name": "python3"
  },
  "language_info": {
   "codemirror_mode": {
    "name": "ipython",
    "version": 3
   },
   "file_extension": ".py",
   "mimetype": "text/x-python",
   "name": "python",
   "nbconvert_exporter": "python",
   "pygments_lexer": "ipython3",
   "version": "3.10.18"
  }
 },
 "nbformat": 4,
 "nbformat_minor": 5
}
