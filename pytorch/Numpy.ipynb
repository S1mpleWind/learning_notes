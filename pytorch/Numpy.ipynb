{
 "cells": [
  {
   "cell_type": "markdown",
   "id": "8a640fb3-e4e9-4928-8ab8-1189187945d9",
   "metadata": {},
   "source": [
    "# Jupyter note for Numpy learning\n",
    "\n",
    "## Create an ndrray object\n",
    "1. Using `array` function "
   ]
  },
  {
   "cell_type": "code",
   "execution_count": 1,
   "id": "8de6629f-0f27-44bc-9e72-0fd7e0fc50cc",
   "metadata": {},
   "outputs": [
    {
     "data": {
      "text/plain": [
       "array([1, 2, 3, 4, 5])"
      ]
     },
     "execution_count": 1,
     "metadata": {},
     "output_type": "execute_result"
    }
   ],
   "source": [
    "import numpy as np \n",
    "import pandas as pd\n",
    "import matplotlib.pyplot as plt\n",
    "\n",
    "array1 = np.array([1,2,3,4,5])\n",
    "array1"
   ]
  },
  {
   "cell_type": "markdown",
   "id": "7634223f-1375-4749-a931-7f8f6ac5a106",
   "metadata": {},
   "source": [
    "2.Using `arange` function"
   ]
  },
  {
   "cell_type": "code",
   "execution_count": 5,
   "id": "aca5c5a7-8e51-4544-9cb1-23fd65b25411",
   "metadata": {},
   "outputs": [],
   "source": [
    "array2 = np.arange(0,20,2) # start , end , step"
   ]
  },
  {
   "cell_type": "markdown",
   "id": "03df554d-e5d2-4616-acb1-795a6324df72",
   "metadata": {},
   "source": [
    "\n"
   ]
  }
 ],
 "metadata": {
  "kernelspec": {
   "display_name": "Python 3 (ipykernel)",
   "language": "python",
   "name": "python3"
  },
  "language_info": {
   "codemirror_mode": {
    "name": "ipython",
    "version": 3
   },
   "file_extension": ".py",
   "mimetype": "text/x-python",
   "name": "python",
   "nbconvert_exporter": "python",
   "pygments_lexer": "ipython3",
   "version": "3.10.18"
  }
 },
 "nbformat": 4,
 "nbformat_minor": 5
}
